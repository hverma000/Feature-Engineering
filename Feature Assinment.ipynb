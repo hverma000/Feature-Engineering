{
  "nbformat": 4,
  "nbformat_minor": 0,
  "metadata": {
    "colab": {
      "provenance": []
    },
    "kernelspec": {
      "name": "python3",
      "display_name": "Python 3"
    },
    "language_info": {
      "name": "python"
    }
  },
  "cells": [
    {
      "cell_type": "markdown",
      "source": [
        "1. What is a parameter?\n"
      ],
      "metadata": {
        "id": "dEukpk7EQuFM"
      }
    },
    {
      "cell_type": "markdown",
      "source": [
        "=> A parameter means a defining limit, boundary, or condition of a system.\n"
      ],
      "metadata": {
        "id": "lcjkJYWTQv1K"
      }
    },
    {
      "cell_type": "markdown",
      "source": [
        "2. What is correlation?\n",
        "What does negative correlation mean?"
      ],
      "metadata": {
        "id": "xnfcvcEOQzgP"
      }
    },
    {
      "cell_type": "markdown",
      "source": [
        "=> Correlation = Relationship between two variables.\n",
        "\n",
        "Negative correlation = One goes up, the other goes down."
      ],
      "metadata": {
        "id": "j0Vaxj1PRJTJ"
      }
    },
    {
      "cell_type": "markdown",
      "source": [
        "3. Define Machine Learning. What are the main components in Machine Learning?\n"
      ],
      "metadata": {
        "id": "4Xyra2CNRPVy"
      }
    },
    {
      "cell_type": "markdown",
      "source": [
        "=> Machine Learning is a branch of Artificial Intelligence (AI) that focuses on building systems that can learn from data and improve automatically with experience, without being explicitly programmed."
      ],
      "metadata": {
        "id": "B8C0IAaPRceJ"
      }
    },
    {
      "cell_type": "markdown",
      "source": [
        "4. How does loss value help in determining whether the model is good or not?\n"
      ],
      "metadata": {
        "id": "BD1mNHsORf_R"
      }
    },
    {
      "cell_type": "markdown",
      "source": [
        "=> Loss (also called error or cost) is a number that tells us how far the model’s predictions are from the actual values.\n",
        "\n",
        "It is calculated using a loss function (like Mean Squared Error, Cross-Entropy, etc.).\n",
        "\n",
        " Smaller loss = better performance\n",
        " Larger loss = poor performance\n"
      ],
      "metadata": {
        "id": "IoPHluwMRiJa"
      }
    },
    {
      "cell_type": "markdown",
      "source": [
        "5. What are continuous and categorical variables?\n"
      ],
      "metadata": {
        "id": "unbm9L6HRuUB"
      }
    },
    {
      "cell_type": "markdown",
      "source": [
        "=> Continuous = Numbers you can measure (with decimals).\n",
        "\n",
        "Categorical = Groups/labels that classify data."
      ],
      "metadata": {
        "id": "1gKXFEjWRxV9"
      }
    },
    {
      "cell_type": "markdown",
      "source": [
        "6. How do we handle categorical variables in Machine Learning? What are the common t\n",
        "echniques?"
      ],
      "metadata": {
        "id": "adMdMDTHR3_g"
      }
    },
    {
      "cell_type": "markdown",
      "source": [
        "=> We handle categorical variables by converting them into numbers using methods like Label Encoding, One-Hot Encoding, Target Encoding, etc., depending on the data and model."
      ],
      "metadata": {
        "id": "n0-2f-ERR74J"
      }
    },
    {
      "cell_type": "markdown",
      "source": [
        "7. What do you mean by training and testing a dataset?\n"
      ],
      "metadata": {
        "id": "BVBjwdSeSGih"
      }
    },
    {
      "cell_type": "markdown",
      "source": [
        "=> Training dataset = used to teach the model.\n",
        "\n",
        "Testing dataset = used to check how good the model is on unseen data."
      ],
      "metadata": {
        "id": "enJ_NGbYSOzI"
      }
    },
    {
      "cell_type": "markdown",
      "source": [
        "8. What is sklearn.preprocessing?\n"
      ],
      "metadata": {
        "id": "6BVC8xgtSQHi"
      }
    },
    {
      "cell_type": "code",
      "source": [
        "from sklearn.preprocessing import StandardScaler, LabelEncoder, OneHotEncoder\n",
        "import numpy as np\n",
        "\n",
        "data = np.array([[1, 2], [3, 4], [5, 6]])\n",
        "scaler = StandardScaler()\n",
        "scaled_data = scaler.fit_transform(data)\n",
        "print(\"Scaled Data:\\n\", scaled_data)\n",
        "\n",
        "labels = [\"Red\", \"Green\", \"Blue\"]\n",
        "encoder = LabelEncoder()\n",
        "encoded_labels = encoder.fit_transform(labels)\n",
        "print(\"Label Encoded:\", encoded_labels)\n"
      ],
      "metadata": {
        "colab": {
          "base_uri": "https://localhost:8080/"
        },
        "id": "OXnVyNVbScdm",
        "outputId": "90b4db62-671e-4167-9ced-cea3fe27260d"
      },
      "execution_count": 1,
      "outputs": [
        {
          "output_type": "stream",
          "name": "stdout",
          "text": [
            "Scaled Data:\n",
            " [[-1.22474487 -1.22474487]\n",
            " [ 0.          0.        ]\n",
            " [ 1.22474487  1.22474487]]\n",
            "Label Encoded: [2 1 0]\n"
          ]
        }
      ]
    },
    {
      "cell_type": "markdown",
      "source": [
        "9. What is a Test set?\n"
      ],
      "metadata": {
        "id": "oDooNJMeSjNI"
      }
    },
    {
      "cell_type": "markdown",
      "source": [
        "=> A test set is a dataset reserved for final evaluation of a trained ML model, to check its ability to work on new, unseen data."
      ],
      "metadata": {
        "id": "wcwjZccXSk5h"
      }
    },
    {
      "cell_type": "markdown",
      "source": [
        "  10. How do we split data for model fitting (training and testing) in Python?\n",
        "How do you approach a Machine Learning problem?"
      ],
      "metadata": {
        "id": "W-hoeBIgSpVx"
      }
    },
    {
      "cell_type": "code",
      "source": [
        "import pandas as pd\n",
        "from sklearn.model_selection import train_test_split\n",
        "\n",
        "data = {\n",
        "    \"Hours_Studied\": [2, 3, 4, 5, 6, 7, 8, 9],\n",
        "    \"Score\": [30, 40, 50, 60, 70, 80, 85, 95]\n",
        "}\n",
        "df = pd.DataFrame(data)\n",
        "\n",
        "X = df[[\"Hours_Studied\"]]\n",
        "y = df[\"Score\"]\n",
        "\n",
        "X_train, X_test, y_train, y_test = train_test_split(X, y, test_size=0.2, random_state=42)\n",
        "\n",
        "print(\"Training Data:\\n\", X_train, \"\\n\")\n",
        "print(\"Testing Data:\\n\", X_test)\n"
      ],
      "metadata": {
        "colab": {
          "base_uri": "https://localhost:8080/"
        },
        "id": "KEBSe11_Sxvc",
        "outputId": "cf961bde-076e-4ef8-bf17-600674c658a5"
      },
      "execution_count": 3,
      "outputs": [
        {
          "output_type": "stream",
          "name": "stdout",
          "text": [
            "Training Data:\n",
            "    Hours_Studied\n",
            "0              2\n",
            "7              9\n",
            "2              4\n",
            "4              6\n",
            "3              5\n",
            "6              8 \n",
            "\n",
            "Testing Data:\n",
            "    Hours_Studied\n",
            "1              3\n",
            "5              7\n"
          ]
        }
      ]
    },
    {
      "cell_type": "markdown",
      "source": [
        "11. Why do we have to perform EDA before fitting a model to the data?\n"
      ],
      "metadata": {
        "id": "kH5NRQdHS7_h"
      }
    },
    {
      "cell_type": "markdown",
      "source": [
        "=> We perform EDA before fitting a model to:\n",
        "\n",
        "Clean data,\n",
        "\n",
        "Detect errors/outliers,\n",
        "\n",
        "Understand relationships,\n",
        "\n",
        "Decide preprocessing & feature engineering,\n",
        "\n",
        "And select the right algorithm."
      ],
      "metadata": {
        "id": "QbJ4_wZ8S--I"
      }
    },
    {
      "cell_type": "markdown",
      "source": [
        "12. What is correlation?\n"
      ],
      "metadata": {
        "id": "6Oy6znI6TFuw"
      }
    },
    {
      "cell_type": "markdown",
      "source": [
        "=> Correlation = A number that explains the strength & direction of the relationship between two variables."
      ],
      "metadata": {
        "id": "tXlxG3UeTMFb"
      }
    },
    {
      "cell_type": "markdown",
      "source": [
        "13. What does negative correlation mean?\n"
      ],
      "metadata": {
        "id": "-qY5pJe8TOcX"
      }
    },
    {
      "cell_type": "markdown",
      "source": [
        "=> Negative correlation = One goes up, the other goes down."
      ],
      "metadata": {
        "id": "rD7iTg9LTPrA"
      }
    },
    {
      "cell_type": "markdown",
      "source": [
        "14. How can you find correlation between variables in Python?\n"
      ],
      "metadata": {
        "id": "as6L3zE7TVsY"
      }
    },
    {
      "cell_type": "markdown",
      "source": [
        "=> Use df.corr() in Pandas for quick correlation.\n",
        "\n",
        "Use Seaborn heatmap for visualization."
      ],
      "metadata": {
        "id": "DxpPBbdgTbZ9"
      }
    },
    {
      "cell_type": "markdown",
      "source": [
        "15. What is causation? Explain difference between correlation and causation with an example.\n"
      ],
      "metadata": {
        "id": "6dpzU9s8Te-f"
      }
    },
    {
      "cell_type": "markdown",
      "source": [
        "=> Correlation = Two things move together.\n",
        "\n",
        "Causation = One thing makes the other happen."
      ],
      "metadata": {
        "id": "Eezq8FCFTl9w"
      }
    },
    {
      "cell_type": "markdown",
      "source": [
        "16. What is an Optimizer? What are different types of optimizers? Explain each with an example.\n"
      ],
      "metadata": {
        "id": "5Fxk6yaFTnug"
      }
    },
    {
      "cell_type": "markdown",
      "source": [
        "=> Optimizers = methods to update weights to minimize error.\n",
        "\n",
        "Adam is the most widely used, but choice depends on dataset and problem type."
      ],
      "metadata": {
        "id": "OLMILnETTwKX"
      }
    },
    {
      "cell_type": "markdown",
      "source": [
        "17. What is sklearn.linear_model ?\n"
      ],
      "metadata": {
        "id": "LLM8zlIVTygI"
      }
    },
    {
      "cell_type": "markdown",
      "source": [
        "=> sklearn.linear_model = collection of linear models for regression and classification tasks."
      ],
      "metadata": {
        "id": "r8ITvXIgT5PI"
      }
    },
    {
      "cell_type": "markdown",
      "source": [
        "18. What does model.fit() do? What arguments must be given?\n"
      ],
      "metadata": {
        "id": "G2IetuoXT7LX"
      }
    },
    {
      "cell_type": "markdown",
      "source": [
        "=> model.fit(X, y) = \"Hey model, here’s the data (X) and answers (y). Learn the relationship.\"\n",
        "\n",
        "After .fit(), the model is ready to predict unseen data using .predict()."
      ],
      "metadata": {
        "id": "Epq5HU_5UCRn"
      }
    },
    {
      "cell_type": "markdown",
      "source": [
        "19. What does model.predict() do? What arguments must be given?\n"
      ],
      "metadata": {
        "id": "lbZhGYuPUFFJ"
      }
    },
    {
      "cell_type": "markdown",
      "source": [
        "=> .fit() = learning (train the model).\n",
        "\n",
        ".predict() = using what was learned to make predictions."
      ],
      "metadata": {
        "id": "gR0wQlvhUGb2"
      }
    },
    {
      "cell_type": "markdown",
      "source": [
        "20. What are continuous and categorical variables?\n"
      ],
      "metadata": {
        "id": "F3O0CGBoUQsW"
      }
    },
    {
      "cell_type": "markdown",
      "source": [
        "=> Continuous = numbers you measure.\n",
        "\n",
        "Categorical = groups you classify into."
      ],
      "metadata": {
        "id": "weIdogsQUWQW"
      }
    },
    {
      "cell_type": "markdown",
      "source": [
        "21. What is feature scaling? How does it help in Machine Learning?\n"
      ],
      "metadata": {
        "id": "9G-dA-I7UcCo"
      }
    },
    {
      "cell_type": "markdown",
      "source": [
        "=> Feature Scaling = putting features on a similar scale.\n",
        "\n",
        "Helps in:\n",
        "\n",
        "Fair comparison between features.\n",
        "\n",
        "Faster optimization (gradient descent).\n",
        "\n",
        "Better performance in distance-based models.\n",
        "\n",
        "Common techniques: Min-Max Scaling, Standardization, Robust Scaling."
      ],
      "metadata": {
        "id": "vXrsjbY6Uf7u"
      }
    },
    {
      "cell_type": "markdown",
      "source": [
        "22. How do we perform scaling in Python?\n"
      ],
      "metadata": {
        "id": "E1Vsn0_vUopW"
      }
    },
    {
      "cell_type": "code",
      "source": [
        "from sklearn.preprocessing import MinMaxScaler\n",
        "\n",
        "scaler = MinMaxScaler()\n",
        "scaled = scaler.fit_transform(df)\n",
        "\n",
        "df_minmax = pd.DataFrame(scaled, columns=df.columns)\n",
        "print(\"\\nAfter Min-Max Scaling:\")\n",
        "print(df_minmax)\n"
      ],
      "metadata": {
        "colab": {
          "base_uri": "https://localhost:8080/"
        },
        "id": "wgxUd0cwUsAN",
        "outputId": "02a9076b-27d4-4f46-d977-51ad9871fa2a"
      },
      "execution_count": 12,
      "outputs": [
        {
          "output_type": "stream",
          "name": "stdout",
          "text": [
            "\n",
            "After Min-Max Scaling:\n",
            "    Age  Salary\n",
            "0  0.00    0.00\n",
            "1  0.25    0.25\n",
            "2  0.50    0.50\n",
            "3  0.75    0.75\n",
            "4  1.00    1.00\n"
          ]
        }
      ]
    },
    {
      "cell_type": "markdown",
      "source": [
        "23. What is sklearn.preprocessing?\n"
      ],
      "metadata": {
        "id": "dwqfhcxvU7su"
      }
    },
    {
      "cell_type": "code",
      "source": [
        "import numpy as np\n",
        "from sklearn.preprocessing import StandardScaler, MinMaxScaler\n",
        "\n",
        "data = np.array([[10, 2000],\n",
        "                 [20, 3000],\n",
        "                 [30, 4000]])\n",
        "\n",
        "scaler = StandardScaler()\n",
        "print(\"Standardized:\\n\", scaler.fit_transform(data))\n",
        "\n",
        "scaler = MinMaxScaler()\n",
        "print(\"Min-Max Scaled:\\n\", scaler.fit_transform(data))\n"
      ],
      "metadata": {
        "colab": {
          "base_uri": "https://localhost:8080/"
        },
        "id": "6q6t3W1qVBlO",
        "outputId": "1304c23c-71d1-4c57-9663-b75f8a668f03"
      },
      "execution_count": 13,
      "outputs": [
        {
          "output_type": "stream",
          "name": "stdout",
          "text": [
            "Standardized:\n",
            " [[-1.22474487 -1.22474487]\n",
            " [ 0.          0.        ]\n",
            " [ 1.22474487  1.22474487]]\n",
            "Min-Max Scaled:\n",
            " [[0.  0. ]\n",
            " [0.5 0.5]\n",
            " [1.  1. ]]\n"
          ]
        }
      ]
    },
    {
      "cell_type": "markdown",
      "source": [
        "24. How do we split data for model fitting (training and testing) in Python?\n"
      ],
      "metadata": {
        "id": "sM_HI_2nVEnO"
      }
    },
    {
      "cell_type": "code",
      "source": [
        "import pandas as pd\n",
        "from sklearn.model_selection import train_test_split\n",
        "\n",
        "data = {\n",
        "    'Age': [20, 25, 30, 35, 40, 45, 50, 55],\n",
        "    'Salary': [20000, 25000, 30000, 35000, 40000, 45000, 50000, 55000],\n",
        "    'Purchased': [0, 0, 1, 0, 1, 1, 0, 1]  # Target (0 = No, 1 = Yes)\n",
        "}\n",
        "\n",
        "df = pd.DataFrame(data)\n",
        "\n",
        "X = df[['Age', 'Salary']]\n",
        "y = df['Purchased']\n",
        "\n",
        "X_train, X_test, y_train, y_test = train_test_split(X, y, test_size=0.3, random_state=42)\n",
        "\n",
        "print(\"Training Data (X_train):\\n\", X_train)\n",
        "print(\"\\nTesting Data (X_test):\\n\", X_test)\n"
      ],
      "metadata": {
        "colab": {
          "base_uri": "https://localhost:8080/"
        },
        "id": "LL3nPsZWVKgW",
        "outputId": "1aeb123a-0285-4ef6-c32b-239f121c5524"
      },
      "execution_count": 14,
      "outputs": [
        {
          "output_type": "stream",
          "name": "stdout",
          "text": [
            "Training Data (X_train):\n",
            "    Age  Salary\n",
            "7   55   55000\n",
            "2   30   30000\n",
            "4   40   40000\n",
            "3   35   35000\n",
            "6   50   50000\n",
            "\n",
            "Testing Data (X_test):\n",
            "    Age  Salary\n",
            "1   25   25000\n",
            "5   45   45000\n",
            "0   20   20000\n"
          ]
        }
      ]
    },
    {
      "cell_type": "markdown",
      "source": [
        "25. Explain data encoding?\n"
      ],
      "metadata": {
        "id": "QUwdB7BjVTqt"
      }
    },
    {
      "cell_type": "markdown",
      "source": [
        "=> What is Data Encoding?\n",
        "\n",
        "In Machine Learning, models mostly work with numerical data.\n",
        "But real-world datasets often have categorical data (like gender, city, product type).\n",
        "\n",
        "Data Encoding = converting categorical variables into numerical format so ML models can process them."
      ],
      "metadata": {
        "id": "q1XI2ZTnVbiG"
      }
    }
  ]
}